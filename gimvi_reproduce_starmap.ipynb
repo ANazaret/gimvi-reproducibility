{
 "cells": [
  {
   "cell_type": "markdown",
   "metadata": {},
   "source": [
    "Install R\n",
    "\n",
    "Then install Seurat v3.0.0 because after Seurat use reticulate (a bridge from R to Python) that crashes R\n",
    "\n",
    "```\n",
    "install.packages('devtools')\n",
    "require(devtools)\n",
    "install.packages(\"BiocManager\")\n",
    "BiocManager::install(\"multtest\")\n",
    "install_version(package = 'Seurat', version = package_version('3.0.0'), repos = \"http://cran.us.r-project.org\", dependencies=FALSE)\n",
    "install_github('MacoskoLab/liger')\n",
    "install_version(package = 'matrixStats',  repos = \"http://cran.us.r-project.org\")\n",
    "\n",
    "# Install a JDK for Liger. Mac OS commands\n",
    "brew cask install java\n",
    "xattr -r -d com.apple.quarantine /Library/Java/JavaVirtualMachines/openjdk-13.0.1.jdk\n",
    "\n",
    "```"
   ]
  },
  {
   "cell_type": "markdown",
   "metadata": {
    "pycharm": {}
   },
   "source": [
    "# Extension of Basic gimVI tutorial: Reproduce GimVI results\n",
    "## Impute missing genes in Spatial Data from Sequencing Data"
   ]
  },
  {
   "cell_type": "code",
   "execution_count": 1,
   "metadata": {
    "ExecuteTime": {
     "end_time": "2019-07-04T02:48:01.686041Z",
     "start_time": "2019-07-04T02:48:01.681842Z"
    },
    "pycharm": {}
   },
   "outputs": [],
   "source": [
    "import sys\n",
    "\n",
    "sys.path.append(\"../../\")\n",
    "sys.path.append(\"../scVI/\")\n",
    "sys.path.append(\"../scVI/tests/\")\n",
    "\n",
    "import warnings\n",
    "warnings.filterwarnings('ignore')"
   ]
  },
  {
   "cell_type": "code",
   "execution_count": 2,
   "metadata": {
    "ExecuteTime": {
     "end_time": "2019-07-04T02:48:01.716333Z",
     "start_time": "2019-07-04T02:48:01.713433Z"
    },
    "pycharm": {}
   },
   "outputs": [],
   "source": [
    "save_path = \"../../data\""
   ]
  },
  {
   "cell_type": "code",
   "execution_count": 3,
   "metadata": {
    "ExecuteTime": {
     "end_time": "2019-07-04T02:48:04.489514Z",
     "start_time": "2019-07-04T02:48:01.743504Z"
    },
    "pycharm": {}
   },
   "outputs": [],
   "source": [
    "from scvi.dataset import (\n",
    "    PreFrontalCortexStarmapDataset,\n",
    "    FrontalCortexDropseqDataset,\n",
    "    SmfishDataset,\n",
    "    CortexDataset,\n",
    ")\n",
    "from scvi.models import JVAE, Classifier, VAE\n",
    "from scvi.inference import JVAETrainer, UnsupervisedTrainer\n",
    "\n",
    "import notebooks.utils.gimvi_tutorial as gimvi_utils\n",
    "\n",
    "import numpy as np\n",
    "import copy\n",
    "import matplotlib.pyplot as plt\n",
    "import time"
   ]
  },
  {
   "cell_type": "code",
   "execution_count": 4,
   "metadata": {},
   "outputs": [
    {
     "name": "stderr",
     "output_type": "stream",
     "text": [
      "R[write to console]: During startup - \n",
      "R[write to console]: Warning messages:\n",
      "\n",
      "R[write to console]: 1: Setting LC_COLLATE failed, using \"C\" \n",
      "\n",
      "R[write to console]: 2: Setting LC_TIME failed, using \"C\" \n",
      "\n",
      "R[write to console]: 3: Setting LC_MESSAGES failed, using \"C\" \n",
      "\n",
      "R[write to console]: 4: Setting LC_MONETARY failed, using \"C\" \n",
      "\n"
     ]
    }
   ],
   "source": [
    "from benchmarkable import Data, SeuratV3, Liger, Coral, Benchmarkable\n",
    "from benchmarkable import scVI as ScVI\n",
    "from plot_benchmarkable import PlotBenchmarkable"
   ]
  },
  {
   "cell_type": "markdown",
   "metadata": {
    "pycharm": {}
   },
   "source": [
    "## Load two datasets: one with spatial data, one from sequencing"
   ]
  },
  {
   "cell_type": "markdown",
   "metadata": {
    "pycharm": {}
   },
   "source": [
    "- **FrontalCortexDropseq**: a scRNA-seq dataset of 71,639 mouse frontal cortex cells (Saunders et al., 2018)\n",
    "- **PreFrontalCortexStarmap**: a starMAP dataset of 3,704 cells and 166 genes from the mouse pre-frontal cortex (Wang et al., 2018)\n"
   ]
  },
  {
   "cell_type": "code",
   "execution_count": 5,
   "metadata": {},
   "outputs": [
    {
     "name": "stdout",
     "output_type": "stream",
     "text": [
      "[2020-01-05 21:46:29,540] INFO - scvi.dataset.dataset | File /Users/anazaret/Documents/data/mpfc-starmap.loom already downloaded\n",
      "[2020-01-05 21:46:29,541] INFO - scvi.dataset.loom | Preprocessing dataset\n",
      "[2020-01-05 21:46:29,621] INFO - scvi.dataset.loom | Finished preprocessing dataset\n",
      "[2020-01-05 21:46:29,629] INFO - scvi.dataset.dataset | Remapping batch_indices to [0,N]\n",
      "[2020-01-05 21:46:29,631] INFO - scvi.dataset.dataset | Remapping labels to [0,N]\n",
      "[2020-01-05 21:46:29,634] INFO - scvi.dataset.dataset | File /Users/anazaret/Documents/data/fc-dropseq.loom already downloaded\n",
      "[2020-01-05 21:46:29,635] INFO - scvi.dataset.loom | Preprocessing dataset\n",
      "[2020-01-05 21:46:56,000] INFO - scvi.dataset.loom | Finished preprocessing dataset\n",
      "[2020-01-05 21:47:11,824] INFO - scvi.dataset.dataset | Remapping batch_indices to [0,N]\n",
      "[2020-01-05 21:47:11,827] INFO - scvi.dataset.dataset | Remapping labels to [0,N]\n",
      "[2020-01-05 21:47:12,488] INFO - scvi.dataset.dataset | Computing the library size for the new data\n",
      "[2020-01-05 21:47:12,561] WARNING - scvi.dataset.dataset | This dataset has some empty cells, this might fail scVI inference.Data should be filtered with `my_dataset.filter_cells_by_count()\n",
      "[2020-01-05 21:47:12,570] INFO - scvi.dataset.dataset | Remapping labels to [0,N]\n"
     ]
    }
   ],
   "source": [
    "data_spatial = PreFrontalCortexStarmapDataset(save_path=save_path)\n",
    "data_seq = FrontalCortexDropseqDataset(\n",
    "    save_path=save_path, genes_to_keep=data_spatial.gene_names\n",
    ")\n"
   ]
  },
  {
   "cell_type": "code",
   "execution_count": 6,
   "metadata": {},
   "outputs": [
    {
     "name": "stdout",
     "output_type": "stream",
     "text": [
      "[2020-01-05 21:47:12,643] INFO - scvi.dataset.dataset | Computing the library size for the new data\n",
      "[2020-01-05 21:47:12,651] WARNING - scvi.dataset.dataset | This dataset has some empty cells, this might fail scVI inference.Data should be filtered with `my_dataset.filter_cells_by_count()\n",
      "[2020-01-05 21:47:12,653] INFO - scvi.dataset.dataset | Downsampled from 71639 to 15000 cells\n"
     ]
    }
   ],
   "source": [
    "# Subsample cells\n",
    "np.random.seed(10)\n",
    "cells = np.random.choice(np.arange(data_seq.X.shape[0]), 15000, replace=False)\n",
    "data_seq.update_cells(cells)"
   ]
  },
  {
   "cell_type": "markdown",
   "metadata": {
    "pycharm": {}
   },
   "source": [
    "**Hide some genes in the osFISH dataset to score the imputation**"
   ]
  },
  {
   "cell_type": "code",
   "execution_count": 7,
   "metadata": {},
   "outputs": [
    {
     "name": "stdout",
     "output_type": "stream",
     "text": [
      "[2020-01-05 21:47:12,666] INFO - scvi.dataset.dataset | Computing the library size for the new data\n",
      "[2020-01-05 21:47:12,671] INFO - scvi.dataset.dataset | Downsampled from 15000 to 14997 cells\n",
      "[2020-01-05 21:47:12,682] INFO - scvi.dataset.dataset | Computing the library size for the new data\n",
      "[2020-01-05 21:47:12,688] INFO - scvi.dataset.dataset | Downsampled from 3704 to 3704 cells\n",
      "[2020-01-05 21:47:12,692] INFO - scvi.dataset.dataset | Downsampling from 158 to 156 genes\n",
      "[2020-01-05 21:47:12,705] INFO - scvi.dataset.dataset | Computing the library size for the new data\n",
      "[2020-01-05 21:47:12,716] INFO - scvi.dataset.dataset | Filtering non-expressing cells.\n",
      "[2020-01-05 21:47:12,729] INFO - scvi.dataset.dataset | Computing the library size for the new data\n",
      "[2020-01-05 21:47:12,734] INFO - scvi.dataset.dataset | Downsampled from 14997 to 14997 cells\n",
      "[2020-01-05 21:47:12,738] INFO - scvi.dataset.dataset | Computing the library size for the new data\n",
      "[2020-01-05 21:47:12,741] INFO - scvi.dataset.dataset | Downsampled from 3704 to 3704 cells\n"
     ]
    }
   ],
   "source": [
    "data_seq.filter_cells_by_count(1)\n",
    "data_spatial.filter_cells_by_count(1)\n",
    "data_seq.filter_genes_by_count(1)\n",
    "data_spatial.filter_cells_by_count(1)"
   ]
  },
  {
   "cell_type": "code",
   "execution_count": 8,
   "metadata": {},
   "outputs": [
    {
     "name": "stdout",
     "output_type": "stream",
     "text": [
      "[2020-01-05 21:47:12,748] INFO - scvi.dataset.dataset | Downsampling from 158 to 156 genes\n",
      "[2020-01-05 21:47:12,750] INFO - scvi.dataset.dataset | Computing the library size for the new data\n",
      "[2020-01-05 21:47:12,754] INFO - scvi.dataset.dataset | Filtering non-expressing cells.\n",
      "[2020-01-05 21:47:12,756] INFO - scvi.dataset.dataset | Computing the library size for the new data\n",
      "[2020-01-05 21:47:12,759] INFO - scvi.dataset.dataset | Downsampled from 3704 to 3704 cells\n"
     ]
    }
   ],
   "source": [
    "data_spatial.filter_genes_by_attribute(data_seq.gene_names)"
   ]
  },
  {
   "cell_type": "code",
   "execution_count": 9,
   "metadata": {
    "ExecuteTime": {
     "end_time": "2019-07-04T02:48:14.464435Z",
     "start_time": "2019-07-04T02:48:14.454103Z"
    },
    "pycharm": {}
   },
   "outputs": [
    {
     "name": "stdout",
     "output_type": "stream",
     "text": [
      "[2020-01-05 21:47:12,770] INFO - scvi.dataset.dataset | Downsampling from 156 to 124 genes\n",
      "[2020-01-05 21:47:12,774] INFO - scvi.dataset.dataset | Computing the library size for the new data\n",
      "[2020-01-05 21:47:12,777] INFO - scvi.dataset.dataset | Filtering non-expressing cells.\n",
      "[2020-01-05 21:47:12,781] INFO - scvi.dataset.dataset | Computing the library size for the new data\n",
      "[2020-01-05 21:47:12,785] INFO - scvi.dataset.dataset | Downsampled from 3704 to 3704 cells\n"
     ]
    }
   ],
   "source": [
    "train_size = 0.8\n",
    "\n",
    "gene_names_rnaseq = data_seq.gene_names\n",
    "np.random.seed(0)\n",
    "n_genes = len(gene_names_rnaseq)\n",
    "gene_ids_train = sorted(\n",
    "    np.random.choice(range(n_genes), int(n_genes * train_size), False)\n",
    ")\n",
    "gene_ids_test = sorted(set(range(n_genes)) - set(gene_ids_train))\n",
    "\n",
    "gene_names_fish = gene_names_rnaseq[gene_ids_train]\n",
    "\n",
    "# Create copy of the fish dataset with hidden genes\n",
    "data_spatial_partial = copy.deepcopy(data_spatial)\n",
    "data_spatial_partial.filter_genes_by_attribute(gene_names_fish)\n",
    "data_spatial_partial.batch_indices += data_seq.n_batches"
   ]
  },
  {
   "cell_type": "code",
   "execution_count": 10,
   "metadata": {},
   "outputs": [
    {
     "name": "stdout",
     "output_type": "stream",
     "text": [
      "[2020-01-05 21:47:12,861] INFO - scvi.dataset.dataset | Downsampling from 156 to 124 genes\n",
      "[2020-01-05 21:47:12,873] INFO - scvi.dataset.dataset | Computing the library size for the new data\n",
      "[2020-01-05 21:47:12,884] WARNING - scvi.dataset.dataset | This dataset has some empty cells, this might fail scVI inference.Data should be filtered with `my_dataset.filter_cells_by_count()\n",
      "[2020-01-05 21:47:12,886] INFO - scvi.dataset.dataset | Filtering non-expressing cells.\n",
      "[2020-01-05 21:47:12,900] INFO - scvi.dataset.dataset | Computing the library size for the new data\n",
      "[2020-01-05 21:47:12,906] INFO - scvi.dataset.dataset | Downsampled from 14997 to 14978 cells\n",
      "[2020-01-05 21:47:12,924] INFO - scvi.dataset.dataset | Computing the library size for the new data\n",
      "[2020-01-05 21:47:12,931] INFO - scvi.dataset.dataset | Downsampled from 14997 to 14978 cells\n"
     ]
    }
   ],
   "source": [
    "data_seq.initialize_cell_attribute(\"original_id\", list(range(data_seq.nb_cells)))\n",
    "tmp = copy.deepcopy(data_seq)\n",
    "tmp.filter_genes_by_attribute(gene_names_fish)\n",
    "data_seq.filter_cells_by_attribute(values_to_keep=tmp.original_id, on=\"original_id\")"
   ]
  },
  {
   "cell_type": "code",
   "execution_count": 11,
   "metadata": {},
   "outputs": [],
   "source": [
    "data = Data(data_seq, data_spatial, data_spatial_partial, gene_ids_train, gene_ids_test)"
   ]
  },
  {
   "cell_type": "markdown",
   "metadata": {},
   "source": [
    "# Benchmark against SeuratAnchors, Liger, Coral"
   ]
  },
  {
   "cell_type": "markdown",
   "metadata": {},
   "source": [
    "## We binded the packages with their official R code\n",
    "The algorithms are wrapped into the `Benchmarkable` class which has methods: `train`, `compute`, `benchmark` and also `save` to dump the object after a long training."
   ]
  },
  {
   "cell_type": "code",
   "execution_count": 12,
   "metadata": {},
   "outputs": [],
   "source": [
    "# Name is SeuratSM (for StarMap) which was for 5.000 cells \n",
    "# then I used 15.000 cells and then I noticed subsample_cells was not random (taking higher variance)\n",
    "# so SeuratSM15Random is 15.000 random cells"
   ]
  },
  {
   "cell_type": "code",
   "execution_count": 13,
   "metadata": {},
   "outputs": [
    {
     "name": "stderr",
     "output_type": "stream",
     "text": [
      "R[write to console]: Warning:\n",
      "R[write to console]:  Feature names cannot have underscores ('_'), replacing with dashes ('-')\n",
      "\n",
      "R[write to console]: Performing log-normalization\n",
      "\n",
      "R[write to console]: 0%   10   20   30   40   50   60   70   80   90   100%\n",
      "\n",
      "R[write to console]: [----|----|----|----|----|----|----|----|----|----|\n",
      "\n",
      "R[write to console]: *\n",
      "R[write to console]: *\n",
      "R[write to console]: *\n",
      "R[write to console]: *\n",
      "R[write to console]: *\n",
      "R[write to console]: *\n",
      "R[write to console]: *\n",
      "R[write to console]: *\n",
      "R[write to console]: *\n",
      "R[write to console]: *\n",
      "R[write to console]: *\n",
      "R[write to console]: *\n",
      "R[write to console]: *\n",
      "R[write to console]: *\n",
      "R[write to console]: *\n",
      "R[write to console]: *\n",
      "R[write to console]: *\n",
      "R[write to console]: *\n",
      "R[write to console]: *\n",
      "R[write to console]: *\n",
      "R[write to console]: *\n",
      "R[write to console]: *\n",
      "R[write to console]: *\n",
      "R[write to console]: *\n",
      "R[write to console]: *\n",
      "R[write to console]: *\n",
      "R[write to console]: *\n",
      "R[write to console]: *\n",
      "R[write to console]: *\n",
      "R[write to console]: *\n",
      "R[write to console]: *\n",
      "R[write to console]: *\n",
      "R[write to console]: *\n",
      "R[write to console]: *\n",
      "R[write to console]: *\n",
      "R[write to console]: *\n",
      "R[write to console]: *\n",
      "R[write to console]: *\n",
      "R[write to console]: *\n",
      "R[write to console]: *\n",
      "R[write to console]: *\n",
      "R[write to console]: *\n",
      "R[write to console]: *\n",
      "R[write to console]: *\n",
      "R[write to console]: *\n",
      "R[write to console]: *\n",
      "R[write to console]: *\n",
      "R[write to console]: *\n",
      "R[write to console]: *\n",
      "R[write to console]: *\n",
      "R[write to console]: |\n",
      "\n",
      "R[write to console]: Calculating gene variances\n",
      "R[write to console]: \n",
      "\n",
      "R[write to console]: 0%   10   20   30   40   50   60   70   80   90   100%\n",
      "\n",
      "R[write to console]: [----|----|----|----|----|----|----|----|----|----|\n",
      "\n",
      "R[write to console]: *\n",
      "R[write to console]: *\n",
      "R[write to console]: *\n",
      "R[write to console]: *\n",
      "R[write to console]: *\n",
      "R[write to console]: *\n",
      "R[write to console]: *\n",
      "R[write to console]: *\n",
      "R[write to console]: *\n",
      "R[write to console]: *\n",
      "R[write to console]: *\n",
      "R[write to console]: *\n",
      "R[write to console]: *\n",
      "R[write to console]: *\n",
      "R[write to console]: *\n",
      "R[write to console]: *\n",
      "R[write to console]: *\n",
      "R[write to console]: *\n",
      "R[write to console]: *\n",
      "R[write to console]: *\n",
      "R[write to console]: *\n",
      "R[write to console]: *\n",
      "R[write to console]: *\n",
      "R[write to console]: *\n",
      "R[write to console]: *\n",
      "R[write to console]: *\n",
      "R[write to console]: *\n",
      "R[write to console]: *\n",
      "R[write to console]: *\n",
      "R[write to console]: *\n",
      "R[write to console]: *\n",
      "R[write to console]: *\n",
      "R[write to console]: *\n",
      "R[write to console]: *\n",
      "R[write to console]: *\n",
      "R[write to console]: *\n",
      "R[write to console]: *\n",
      "R[write to console]: *\n",
      "R[write to console]: *\n",
      "R[write to console]: *\n",
      "R[write to console]: *\n",
      "R[write to console]: *\n",
      "R[write to console]: *\n",
      "R[write to console]: *\n",
      "R[write to console]: *\n",
      "R[write to console]: *\n",
      "R[write to console]: *\n",
      "R[write to console]: *\n",
      "R[write to console]: *\n",
      "R[write to console]: *\n",
      "R[write to console]: |\n",
      "\n",
      "R[write to console]: Calculating feature variances of standardized and clipped values\n",
      "R[write to console]: \n",
      "\n",
      "R[write to console]: 0%   10   20   30   40   50   60   70   80   90   100%\n",
      "\n",
      "R[write to console]: [----|----|----|----|----|----|----|----|----|----|\n",
      "\n",
      "R[write to console]: *\n",
      "R[write to console]: *\n",
      "R[write to console]: *\n",
      "R[write to console]: *\n",
      "R[write to console]: *\n",
      "R[write to console]: *\n",
      "R[write to console]: *\n",
      "R[write to console]: *\n",
      "R[write to console]: *\n",
      "R[write to console]: *\n",
      "R[write to console]: *\n",
      "R[write to console]: *\n",
      "R[write to console]: *\n",
      "R[write to console]: *\n",
      "R[write to console]: *\n",
      "R[write to console]: *\n",
      "R[write to console]: *\n",
      "R[write to console]: *\n",
      "R[write to console]: *\n",
      "R[write to console]: *\n",
      "R[write to console]: *\n",
      "R[write to console]: *\n",
      "R[write to console]: *\n",
      "R[write to console]: *\n",
      "R[write to console]: *\n",
      "R[write to console]: *\n",
      "R[write to console]: *\n",
      "R[write to console]: *\n",
      "R[write to console]: *\n",
      "R[write to console]: *\n",
      "R[write to console]: *\n",
      "R[write to console]: *\n",
      "R[write to console]: *\n",
      "R[write to console]: *\n",
      "R[write to console]: *\n",
      "R[write to console]: *\n",
      "R[write to console]: *\n",
      "R[write to console]: *\n",
      "R[write to console]: *\n",
      "R[write to console]: *\n",
      "R[write to console]: *\n",
      "R[write to console]: *\n",
      "R[write to console]: *\n",
      "R[write to console]: *\n",
      "R[write to console]: *\n",
      "R[write to console]: *\n",
      "R[write to console]: *\n",
      "R[write to console]: *\n",
      "R[write to console]: *\n",
      "R[write to console]: *\n",
      "R[write to console]: |\n",
      "\n",
      "R[write to console]: Centering and scaling data matrix\n",
      "\n",
      "  |                                                                            \n",
      "  |                                                                      |   0%\n",
      "  |                                                                            \n",
      "  |======================================================================| 100%\n",
      "R[write to console]: \n",
      "\n",
      "R[write to console]: Warning:\n",
      "R[write to console]:  Feature names cannot have underscores ('_'), replacing with dashes ('-')\n",
      "\n",
      "R[write to console]: Performing log-normalization\n",
      "\n",
      "R[write to console]: 0%   10   20   30   40   50   60   70   80   90   100%\n",
      "\n",
      "R[write to console]: [----|----|----|----|----|----|----|----|----|----|\n",
      "\n",
      "R[write to console]: *\n",
      "R[write to console]: *\n",
      "R[write to console]: *\n",
      "R[write to console]: *\n",
      "R[write to console]: *\n",
      "R[write to console]: *\n",
      "R[write to console]: *\n",
      "R[write to console]: *\n",
      "R[write to console]: *\n",
      "R[write to console]: *\n",
      "R[write to console]: *\n",
      "R[write to console]: *\n",
      "R[write to console]: *\n",
      "R[write to console]: *\n",
      "R[write to console]: *\n",
      "R[write to console]: *\n",
      "R[write to console]: *\n",
      "R[write to console]: *\n",
      "R[write to console]: *\n",
      "R[write to console]: *\n",
      "R[write to console]: *\n",
      "R[write to console]: *\n",
      "R[write to console]: *\n",
      "R[write to console]: *\n",
      "R[write to console]: *\n",
      "R[write to console]: *\n",
      "R[write to console]: *\n",
      "R[write to console]: *\n",
      "R[write to console]: *\n",
      "R[write to console]: *\n",
      "R[write to console]: *\n",
      "R[write to console]: *\n",
      "R[write to console]: *\n",
      "R[write to console]: *\n",
      "R[write to console]: *\n",
      "R[write to console]: *\n",
      "R[write to console]: *\n",
      "R[write to console]: *\n",
      "R[write to console]: *\n",
      "R[write to console]: *\n",
      "R[write to console]: *\n",
      "R[write to console]: *\n",
      "R[write to console]: *\n",
      "R[write to console]: *\n",
      "R[write to console]: *\n",
      "R[write to console]: *\n",
      "R[write to console]: *\n",
      "R[write to console]: *\n",
      "R[write to console]: *\n",
      "R[write to console]: *\n",
      "R[write to console]: |\n",
      "\n",
      "R[write to console]: Calculating gene variances\n",
      "R[write to console]: \n",
      "\n",
      "R[write to console]: 0%   10   20   30   40   50   60   70   80   90   100%\n",
      "\n",
      "R[write to console]: [----|----|----|----|----|----|----|----|----|----|\n",
      "\n",
      "R[write to console]: *\n",
      "R[write to console]: *\n",
      "R[write to console]: *\n",
      "R[write to console]: *\n",
      "R[write to console]: *\n",
      "R[write to console]: *\n",
      "R[write to console]: *\n",
      "R[write to console]: *\n",
      "R[write to console]: *\n",
      "R[write to console]: *\n",
      "R[write to console]: *\n",
      "R[write to console]: *\n",
      "R[write to console]: *\n",
      "R[write to console]: *\n",
      "R[write to console]: *\n",
      "R[write to console]: *\n",
      "R[write to console]: *\n",
      "R[write to console]: *\n",
      "R[write to console]: *\n",
      "R[write to console]: *\n",
      "R[write to console]: *\n",
      "R[write to console]: *\n",
      "R[write to console]: *\n",
      "R[write to console]: *\n",
      "R[write to console]: *\n",
      "R[write to console]: *\n",
      "R[write to console]: *\n",
      "R[write to console]: *\n",
      "R[write to console]: *\n",
      "R[write to console]: *\n",
      "R[write to console]: *\n",
      "R[write to console]: *\n",
      "R[write to console]: *\n",
      "R[write to console]: *\n",
      "R[write to console]: *\n",
      "R[write to console]: *\n",
      "R[write to console]: *\n",
      "R[write to console]: *\n",
      "R[write to console]: *\n",
      "R[write to console]: *\n",
      "R[write to console]: *\n",
      "R[write to console]: *\n",
      "R[write to console]: *\n",
      "R[write to console]: *\n",
      "R[write to console]: *\n",
      "R[write to console]: *\n",
      "R[write to console]: *\n",
      "R[write to console]: *\n",
      "R[write to console]: *\n",
      "R[write to console]: *\n",
      "R[write to console]: |\n",
      "\n",
      "R[write to console]: Calculating feature variances of standardized and clipped values\n",
      "R[write to console]: \n",
      "\n",
      "R[write to console]: 0%   10   20   30   40   50   60   70   80   90   100%\n",
      "\n",
      "R[write to console]: [----|----|----|----|----|----|----|----|----|----|\n",
      "\n",
      "R[write to console]: *\n",
      "R[write to console]: *\n",
      "R[write to console]: *\n",
      "R[write to console]: *\n",
      "R[write to console]: *\n",
      "R[write to console]: *\n",
      "R[write to console]: *\n",
      "R[write to console]: *\n",
      "R[write to console]: *\n",
      "R[write to console]: *\n",
      "R[write to console]: *\n",
      "R[write to console]: *\n",
      "R[write to console]: *\n",
      "R[write to console]: *\n"
     ]
    },
    {
     "name": "stderr",
     "output_type": "stream",
     "text": [
      "R[write to console]: *\n",
      "R[write to console]: *\n",
      "R[write to console]: *\n",
      "R[write to console]: *\n",
      "R[write to console]: *\n",
      "R[write to console]: *\n",
      "R[write to console]: *\n",
      "R[write to console]: *\n",
      "R[write to console]: *\n",
      "R[write to console]: *\n",
      "R[write to console]: *\n",
      "R[write to console]: *\n",
      "R[write to console]: *\n",
      "R[write to console]: *\n",
      "R[write to console]: *\n",
      "R[write to console]: *\n",
      "R[write to console]: *\n",
      "R[write to console]: *\n",
      "R[write to console]: *\n",
      "R[write to console]: *\n",
      "R[write to console]: *\n",
      "R[write to console]: *\n",
      "R[write to console]: *\n",
      "R[write to console]: *\n",
      "R[write to console]: *\n",
      "R[write to console]: *\n",
      "R[write to console]: *\n",
      "R[write to console]: *\n",
      "R[write to console]: *\n",
      "R[write to console]: *\n",
      "R[write to console]: *\n",
      "R[write to console]: *\n",
      "R[write to console]: *\n",
      "R[write to console]: *\n",
      "R[write to console]: *\n",
      "R[write to console]: *\n",
      "R[write to console]: |\n",
      "\n",
      "R[write to console]: Centering and scaling data matrix\n",
      "\n",
      "  |                                                                            \n",
      "  |                                                                      |   0%\n",
      "  |                                                                            \n",
      "  |======================================================================| 100%\n",
      "R[write to console]: \n",
      "\n",
      "R[write to console]: Loading required package: cowplot\n",
      "\n",
      "R[write to console]: \n",
      "********************************************************\n",
      "\n",
      "R[write to console]: Note: As of version 1.0.0, cowplot does not change the\n",
      "\n",
      "R[write to console]:   default ggplot2 theme anymore. To recover the previous\n",
      "\n",
      "R[write to console]:   behavior, execute:\n",
      "  theme_set(theme_cowplot())\n",
      "\n",
      "R[write to console]: ********************************************************\n",
      "\n",
      "\n",
      "R[write to console]: Loading required package: patchwork\n",
      "\n",
      "R[write to console]: \n",
      "Attaching package: ‘patchwork’\n",
      "\n",
      "\n",
      "R[write to console]: The following object is masked from ‘package:cowplot’:\n",
      "\n",
      "    align_plots\n",
      "\n",
      "\n"
     ]
    },
    {
     "name": "stdout",
     "output_type": "stream",
     "text": [
      "[2020-01-05 21:47:22,508] INFO - scvi.dataset.dataset | Keeping 124 genes\n",
      "[2020-01-05 21:47:22,509] INFO - scvi.dataset.dataset | Computing the library size for the new data\n",
      "[2020-01-05 21:47:22,513] INFO - scvi.dataset.dataset | Remapping batch_indices to [0,N]\n",
      "[2020-01-05 21:47:22,514] INFO - scvi.dataset.dataset | Remapping labels to [0,N]\n",
      "[2020-01-05 21:47:22,527] INFO - scvi.dataset.dataset | Computing the library size for the new data\n",
      "[2020-01-05 21:47:22,536] INFO - scvi.dataset.dataset | Remapping batch_indices to [0,N]\n",
      "[2020-01-05 21:47:22,537] INFO - scvi.dataset.dataset | Remapping labels to [0,N]\n",
      "[2020-01-05 21:47:22,556] INFO - scvi.dataset.dataset | Remapping batch_indices to [0,N]\n",
      "[2020-01-05 21:47:22,558] INFO - scvi.dataset.dataset | Remapping labels to [0,N]\n"
     ]
    }
   ],
   "source": [
    "seurat = SeuratV3(data, \"SeuratSM15Random\", 8)\n",
    "liger = Liger(data, \"LigerSM15Random\", 8)\n",
    "coral = Coral(data, \"CoralSM15Random\", 8)\n",
    "scVI = ScVI(data, \"scVISM15Random\", 8)"
   ]
  },
  {
   "cell_type": "code",
   "execution_count": 14,
   "metadata": {},
   "outputs": [
    {
     "name": "stderr",
     "output_type": "stream",
     "text": [
      "R[write to console]: Computing 2000 integration features\n",
      "\n",
      "R[write to console]: Scaling features for provided objects\n",
      "\n",
      "R[write to console]: Finding all pairwise anchors\n",
      "\n",
      "R[write to console]: Running CCA\n",
      "\n",
      "R[write to console]: Merging objects\n",
      "\n",
      "R[write to console]: Finding neighborhoods\n",
      "\n",
      "R[write to console]: Finding anchors\n",
      "\n",
      "R[write to console]: \tFound 14275 anchors\n",
      "\n",
      "R[write to console]: Filtering anchors\n",
      "\n",
      "R[write to console]: \tRetained 1362 anchors\n",
      "\n",
      "R[write to console]: Extracting within-dataset neighbors\n",
      "\n",
      "R[write to console]: Merging dataset 1 into 2\n",
      "\n",
      "R[write to console]: Extracting anchors for merged samples\n",
      "\n",
      "R[write to console]: Finding integration vectors\n",
      "\n",
      "R[write to console]: Finding integration vector weights\n",
      "\n",
      "R[write to console]: 0%   10   20   30   40   50   60   70   80   90   100%\n",
      "\n",
      "R[write to console]: [----|----|----|----|----|----|----|----|----|----|\n",
      "\n",
      "R[write to console]: *\n",
      "R[write to console]: *\n",
      "R[write to console]: *\n",
      "R[write to console]: *\n",
      "R[write to console]: *\n",
      "R[write to console]: *\n",
      "R[write to console]: *\n",
      "R[write to console]: *\n",
      "R[write to console]: *\n",
      "R[write to console]: *\n",
      "R[write to console]: *\n",
      "R[write to console]: *\n",
      "R[write to console]: *\n",
      "R[write to console]: *\n",
      "R[write to console]: *\n",
      "R[write to console]: *\n",
      "R[write to console]: *\n",
      "R[write to console]: *\n",
      "R[write to console]: *\n",
      "R[write to console]: *\n",
      "R[write to console]: *\n",
      "R[write to console]: *\n",
      "R[write to console]: *\n",
      "R[write to console]: *\n",
      "R[write to console]: *\n",
      "R[write to console]: *\n",
      "R[write to console]: *\n",
      "R[write to console]: *\n",
      "R[write to console]: *\n",
      "R[write to console]: *\n",
      "R[write to console]: *\n",
      "R[write to console]: *\n",
      "R[write to console]: *\n",
      "R[write to console]: *\n",
      "R[write to console]: *\n",
      "R[write to console]: *\n",
      "R[write to console]: *\n",
      "R[write to console]: *\n",
      "R[write to console]: *\n",
      "R[write to console]: *\n",
      "R[write to console]: *\n",
      "R[write to console]: *\n",
      "R[write to console]: *\n",
      "R[write to console]: *\n",
      "R[write to console]: *\n",
      "R[write to console]: *\n",
      "R[write to console]: *\n",
      "R[write to console]: *\n",
      "R[write to console]: *\n",
      "R[write to console]: *\n",
      "R[write to console]: |\n",
      "\n",
      "R[write to console]: Integrating data\n",
      "\n",
      "R[write to console]: Centering and scaling data matrix\n",
      "\n",
      "  |                                                                            \n",
      "  |                                                                      |   0%\n",
      "  |                                                                            \n",
      "  |======================================================================| 100%\n",
      "R[write to console]: \n",
      "\n"
     ]
    },
    {
     "name": "stdout",
     "output_type": "stream",
     "text": [
      "PC_ 1 \n",
      "Positive:  gene-53, gene-57, gene-19, gene-86, gene-38, gene-97, gene-27, gene-12, gene-6, gene-3 \n",
      "\t   gene-63, gene-40, gene-5, gene-64, gene-96, gene-117, gene-65, gene-43, gene-100, gene-33 \n",
      "\t   gene-81, gene-111, gene-83, gene-102, gene-2, gene-45, gene-82, gene-120, gene-41, gene-118 \n",
      "Negative:  gene-52, gene-34, gene-51, gene-4, gene-44, gene-60, gene-123, gene-72, gene-68, gene-9 \n",
      "\t   gene-78, gene-84, gene-116, gene-103, gene-15, gene-71, gene-28, gene-1, gene-13, gene-58 \n",
      "\t   gene-91, gene-109, gene-59, gene-67, gene-17, gene-29, gene-113, gene-26, gene-7, gene-99 \n",
      "PC_ 2 \n",
      "Positive:  gene-96, gene-119, gene-49, gene-66, gene-75, gene-118, gene-42, gene-36, gene-121, gene-5 \n",
      "\t   gene-97, gene-4, gene-102, gene-31, gene-38, gene-72, gene-37, gene-82, gene-58, gene-1 \n",
      "\t   gene-2, gene-45, gene-77, gene-106, gene-120, gene-25, gene-13, gene-124, gene-99, gene-122 \n",
      "Negative:  gene-111, gene-52, gene-51, gene-33, gene-89, gene-101, gene-84, gene-113, gene-60, gene-65 \n",
      "\t   gene-19, gene-116, gene-20, gene-81, gene-80, gene-43, gene-103, gene-9, gene-41, gene-27 \n",
      "\t   gene-35, gene-117, gene-109, gene-107, gene-78, gene-17, gene-59, gene-28, gene-12, gene-67 \n",
      "PC_ 3 \n",
      "Positive:  gene-41, gene-33, gene-35, gene-111, gene-89, gene-72, gene-44, gene-17, gene-4, gene-76 \n",
      "\t   gene-71, gene-65, gene-43, gene-70, gene-100, gene-27, gene-21, gene-107, gene-1, gene-58 \n",
      "\t   gene-68, gene-86, gene-62, gene-39, gene-32, gene-79, gene-54, gene-118, gene-61, gene-19 \n",
      "Negative:  gene-52, gene-51, gene-60, gene-96, gene-84, gene-124, gene-119, gene-102, gene-90, gene-49 \n",
      "\t   gene-113, gene-103, gene-9, gene-36, gene-75, gene-66, gene-109, gene-123, gene-120, gene-26 \n",
      "\t   gene-67, gene-115, gene-59, gene-15, gene-28, gene-97, gene-55, gene-112, gene-37, gene-64 \n",
      "PC_ 4 \n",
      "Positive:  gene-118, gene-66, gene-102, gene-35, gene-4, gene-100, gene-34, gene-86, gene-41, gene-2 \n",
      "\t   gene-18, gene-9, gene-58, gene-51, gene-52, gene-42, gene-19, gene-65, gene-33, gene-112 \n",
      "\t   gene-111, gene-1, gene-27, gene-75, gene-91, gene-109, gene-84, gene-121, gene-103, gene-60 \n",
      "Negative:  gene-44, gene-20, gene-14, gene-49, gene-116, gene-17, gene-85, gene-81, gene-68, gene-63 \n",
      "\t   gene-119, gene-123, gene-25, gene-37, gene-97, gene-82, gene-46, gene-120, gene-78, gene-107 \n",
      "\t   gene-83, gene-71, gene-16, gene-8, gene-64, gene-39, gene-101, gene-48, gene-117, gene-76 \n",
      "PC_ 5 \n",
      "Positive:  gene-44, gene-17, gene-123, gene-68, gene-118, gene-102, gene-45, gene-14, gene-116, gene-78 \n",
      "\t   gene-2, gene-82, gene-40, gene-66, gene-5, gene-63, gene-46, gene-48, gene-12, gene-39 \n",
      "\t   gene-61, gene-18, gene-71, gene-35, gene-86, gene-75, gene-27, gene-77, gene-100, gene-76 \n",
      "Negative:  gene-64, gene-49, gene-20, gene-119, gene-97, gene-89, gene-72, gene-41, gene-53, gene-80 \n",
      "\t   gene-111, gene-109, gene-81, gene-25, gene-57, gene-37, gene-90, gene-110, gene-43, gene-67 \n",
      "\t   gene-33, gene-16, gene-70, gene-88, gene-6, gene-99, gene-65, gene-120, gene-42, gene-87 \n"
     ]
    },
    {
     "name": "stderr",
     "output_type": "stream",
     "text": [
      "R[write to console]: Performing PCA on the provided reference using 156 features as input.\n",
      "\n",
      "R[write to console]: Projecting PCA\n",
      "\n",
      "R[write to console]: Finding neighborhoods\n",
      "\n",
      "R[write to console]: Finding anchors\n",
      "\n",
      "R[write to console]: \tFound 2970 anchors\n",
      "\n",
      "R[write to console]: Filtering anchors\n",
      "\n",
      "R[write to console]: \tRetained 1406 anchors\n",
      "\n",
      "R[write to console]: Extracting within-dataset neighbors\n",
      "\n",
      "R[write to console]: Finding integration vectors\n",
      "\n",
      "R[write to console]: Finding integration vector weights\n",
      "\n",
      "R[write to console]: 0%   10   20   30   40   50   60   70   80   90   100%\n",
      "\n",
      "R[write to console]: [----|----|----|----|----|----|----|----|----|----|\n",
      "\n",
      "R[write to console]: *\n",
      "R[write to console]: *\n",
      "R[write to console]: *\n",
      "R[write to console]: *\n",
      "R[write to console]: *\n",
      "R[write to console]: *\n",
      "R[write to console]: *\n",
      "R[write to console]: *\n",
      "R[write to console]: *\n",
      "R[write to console]: *\n",
      "R[write to console]: *\n",
      "R[write to console]: *\n",
      "R[write to console]: *\n",
      "R[write to console]: *\n",
      "R[write to console]: *\n",
      "R[write to console]: *\n",
      "R[write to console]: *\n",
      "R[write to console]: *\n",
      "R[write to console]: *\n",
      "R[write to console]: *\n",
      "R[write to console]: *\n",
      "R[write to console]: *\n",
      "R[write to console]: *\n",
      "R[write to console]: *\n",
      "R[write to console]: *\n",
      "R[write to console]: *\n",
      "R[write to console]: *\n",
      "R[write to console]: *\n",
      "R[write to console]: *\n",
      "R[write to console]: *\n",
      "R[write to console]: *\n",
      "R[write to console]: *\n",
      "R[write to console]: *\n",
      "R[write to console]: *\n",
      "R[write to console]: *\n",
      "R[write to console]: *\n",
      "R[write to console]: *\n",
      "R[write to console]: *\n",
      "R[write to console]: *\n",
      "R[write to console]: *\n",
      "R[write to console]: *\n",
      "R[write to console]: *\n",
      "R[write to console]: *\n",
      "R[write to console]: *\n",
      "R[write to console]: *\n",
      "R[write to console]: *\n",
      "R[write to console]: *\n",
      "R[write to console]: *\n",
      "R[write to console]: *\n",
      "R[write to console]: *\n",
      "R[write to console]: |\n",
      "\n",
      "R[write to console]: Transfering 156 features onto reference data\n",
      "\n"
     ]
    }
   ],
   "source": [
    "seurat.train()\n",
    "seurat.compute()\n",
    "seurat.benchmark()\n",
    "seurat.save()"
   ]
  },
  {
   "cell_type": "code",
   "execution_count": 15,
   "metadata": {},
   "outputs": [
    {
     "name": "stdout",
     "output_type": "stream",
     "text": [
      "8\n",
      "  |======================================================================| 100%\n",
      "Converged in 22.10472 secs, 21 iterations.\n",
      "  |======================================================================| 100%\n",
      "Converged in 24.87042 secs, 25 iterations.\n",
      "  |======================================================================| 100%\n",
      "Converged in 28.79187 secs, 27 iterations.\n",
      "Best results with seed 3.\n",
      "[1] \"Recomputing shared nearest factor space\"\n",
      "[1] \"making edge file.\"\n",
      "[1] \"Starting SLM\"\n",
      "[1] \"Assigning singletons\"\n"
     ]
    }
   ],
   "source": [
    "liger.train()\n",
    "liger.compute()\n",
    "liger.benchmark()\n",
    "liger.save()"
   ]
  },
  {
   "cell_type": "code",
   "execution_count": 16,
   "metadata": {},
   "outputs": [],
   "source": [
    "coral.train()\n",
    "coral.compute()\n",
    "coral.benchmark_imputation()\n",
    "coral.save()"
   ]
  },
  {
   "cell_type": "code",
   "execution_count": 17,
   "metadata": {},
   "outputs": [
    {
     "data": {
      "application/vnd.jupyter.widget-view+json": {
       "model_id": "5d88a150ef5e424d9e56af7d8d1fc027",
       "version_major": 2,
       "version_minor": 0
      },
      "text/plain": [
       "HBox(children=(FloatProgress(value=0.0, description='training', max=20.0, style=ProgressStyle(description_widt…"
      ]
     },
     "metadata": {},
     "output_type": "display_data"
    },
    {
     "name": "stdout",
     "output_type": "stream",
     "text": [
      "\n"
     ]
    },
    {
     "data": {
      "application/vnd.jupyter.widget-view+json": {
       "model_id": "30d7efc1795a4aab83a3f847a912077d",
       "version_major": 2,
       "version_minor": 0
      },
      "text/plain": [
       "HBox(children=(FloatProgress(value=0.0, description='training', max=20.0, style=ProgressStyle(description_widt…"
      ]
     },
     "metadata": {},
     "output_type": "display_data"
    },
    {
     "name": "stdout",
     "output_type": "stream",
     "text": [
      "\n"
     ]
    },
    {
     "data": {
      "application/vnd.jupyter.widget-view+json": {
       "model_id": "32bc7e4dc44e4d9aa606015355ebcc5b",
       "version_major": 2,
       "version_minor": 0
      },
      "text/plain": [
       "HBox(children=(FloatProgress(value=0.0, description='training', max=20.0, style=ProgressStyle(description_widt…"
      ]
     },
     "metadata": {},
     "output_type": "display_data"
    },
    {
     "name": "stdout",
     "output_type": "stream",
     "text": [
      "\n"
     ]
    }
   ],
   "source": [
    "scVI.train()\n",
    "scVI.compute()\n",
    "scVI.benchmark()\n",
    "scVI.save()"
   ]
  },
  {
   "cell_type": "markdown",
   "metadata": {
    "pycharm": {}
   },
   "source": [
    "**Configure the Joint Model**\n",
    "The joint model can take multiple datasets with potentially different observed genes. \n",
    "All dataset will be encoded and decoded with the union of all genes.\n",
    "It requires:\n",
    "- The gene mappings from each dataset to the common decoded vector:\n",
    "    * *Eg: dataset1 has genes ['a', 'b'] and dataset2 has genes ['b', 'c'], then a possible output can be ['b', 'a', 'c'] such that the mappings are [1, 0] and [0, 2]*\n",
    "    * *Usually, if the genes of dataset2 are included in dataset1, it is way more efficient to keep the order of dataset1 in the output and use `slice(None)` as a mapping for dataset1*\n",
    "    \n",
    "- The number of inputs (ie) number of genes in each dataset\n",
    "- The distributions to use for the generative process: usually scRNA-seq is modelled with ZINB (because of technical dropout) and FISH with NB or even Poisson\n",
    "- Whether to model the library size with a latent variable or use the observed value"
   ]
  },
  {
   "cell_type": "code",
   "execution_count": 18,
   "metadata": {
    "ExecuteTime": {
     "end_time": "2019-07-04T02:48:14.469984Z",
     "start_time": "2019-07-04T02:48:14.466181Z"
    },
    "pycharm": {}
   },
   "outputs": [],
   "source": [
    "datasets = [data_seq, data_spatial_partial]\n",
    "generative_distributions = [\"zinb\", \"nb\"]\n",
    "gene_mappings = [slice(None), np.array(gene_ids_train)]\n",
    "n_inputs = [d.nb_genes for d in datasets]\n",
    "total_genes = data_seq.nb_genes\n",
    "n_batches = sum([d.n_batches for d in datasets])\n",
    "\n",
    "model_library_size = [True, False]\n",
    "\n",
    "n_latent = 8\n",
    "kappa = 5"
   ]
  },
  {
   "cell_type": "code",
   "execution_count": 19,
   "metadata": {
    "ExecuteTime": {
     "end_time": "2019-07-04T02:48:16.454723Z",
     "start_time": "2019-07-04T02:48:14.472685Z"
    },
    "pycharm": {}
   },
   "outputs": [],
   "source": [
    "import torch\n",
    "\n",
    "torch.manual_seed(0)\n",
    "\n",
    "model = JVAE(\n",
    "    n_inputs,\n",
    "    total_genes,\n",
    "    gene_mappings,\n",
    "    generative_distributions,\n",
    "    model_library_size,\n",
    "    n_layers_decoder_individual=0,\n",
    "    n_layers_decoder_shared=0,\n",
    "    n_layers_encoder_individual=1,\n",
    "    n_layers_encoder_shared=1,\n",
    "    dim_hidden_encoder=64,\n",
    "    dim_hidden_decoder_shared=64,\n",
    "    dropout_rate_encoder=0.2,\n",
    "    dropout_rate_decoder=0.2,\n",
    "    n_batch=n_batches,\n",
    "    n_latent=n_latent,\n",
    ")\n",
    "discriminator = Classifier(n_latent, 32, 2, 3, logits=True)\n",
    "trainer = JVAETrainer(model, discriminator, datasets, 0.95, frequency=1, kappa=kappa)"
   ]
  },
  {
   "cell_type": "code",
   "execution_count": 20,
   "metadata": {},
   "outputs": [],
   "source": [
    "class GimVI(Benchmarkable):\n",
    "    def __init__(self, data, name, trainer):\n",
    "        super().__init__(data, name)\n",
    "        self.trainer_both = trainer\n",
    "        self.n_latent = self.trainer_both.model.n_latent\n",
    "\n",
    "    def train_fish(self, n_epochs=100):\n",
    "        dataset = self.data.data_fish\n",
    "        vae = VAE(\n",
    "            dataset.nb_genes,\n",
    "            n_batch=dataset.n_batches,\n",
    "            dispersion=\"gene-batch\",\n",
    "            n_latent=self.n_latent,\n",
    "            reconstruction_loss=\"nb\",\n",
    "        )\n",
    "        self.trainer_fish = UnsupervisedTrainer(\n",
    "            vae, dataset, train_size=0.95, use_cuda=False\n",
    "        )\n",
    "        self.trainer_fish.train(n_epochs=n_epochs, lr=0.001)\n",
    "\n",
    "    def train_seq(self, n_epochs=100):\n",
    "        dataset = self.data.data_seq\n",
    "        vae = VAE(dataset.nb_genes, dispersion=\"gene\", n_latent=self.n_latent)\n",
    "        self.trainer_seq = UnsupervisedTrainer(\n",
    "            vae, dataset, train_size=0.95, use_cuda=False\n",
    "        )\n",
    "        self.trainer_seq.train(n_epochs=n_epochs, lr=0.001)\n",
    "\n",
    "    def train_both(self, n_epochs=100):\n",
    "        starting_time = time.time()\n",
    "        self.trainer_both.train(n_epochs=n_epochs)\n",
    "        self.posterior_both = self.trainer_both.create_posterior()\n",
    "        self.train_time = time.time() - starting_time\n",
    "\n",
    "        \n",
    "    def compute_latent(self):\n",
    "        self.latent_both_seq, self.latent_both_fish = self.trainer_both.get_latent()\n",
    "\n",
    "        fish = self.trainer_fish.create_posterior().get_latent()[0]\n",
    "        self.latent_only_fish = fish\n",
    "\n",
    "        seq = self.trainer_seq.create_posterior().get_latent()[0]\n",
    "        self.latent_only_seq = seq\n",
    "\n",
    "        return (\n",
    "            self.latent_both_fish,\n",
    "            self.latent_both_seq,\n",
    "            self.latent_only_fish,\n",
    "            self.latent_only_seq,\n",
    "        )\n",
    "\n",
    "    def compute_imputed_values(self):\n",
    "        _, self.imputed_full = self.trainer_both.get_imputed_values(normalized=False)\n",
    "        self.imputed = self.imputed_full[:, self.data.test_indices]\n",
    "        return self.imputed"
   ]
  },
  {
   "cell_type": "code",
   "execution_count": 21,
   "metadata": {},
   "outputs": [
    {
     "data": {
      "application/vnd.jupyter.widget-view+json": {
       "model_id": "1b80977780ba46b2b434dc70ff53618a",
       "version_major": 2,
       "version_minor": 0
      },
      "text/plain": [
       "HBox(children=(FloatProgress(value=0.0, description='training', style=ProgressStyle(description_width='initial…"
      ]
     },
     "metadata": {},
     "output_type": "display_data"
    },
    {
     "name": "stdout",
     "output_type": "stream",
     "text": [
      "\n"
     ]
    },
    {
     "data": {
      "application/vnd.jupyter.widget-view+json": {
       "model_id": "338b26431ea445a29a908e5111c017bf",
       "version_major": 2,
       "version_minor": 0
      },
      "text/plain": [
       "HBox(children=(FloatProgress(value=0.0, description='training', style=ProgressStyle(description_width='initial…"
      ]
     },
     "metadata": {},
     "output_type": "display_data"
    },
    {
     "name": "stdout",
     "output_type": "stream",
     "text": [
      "\n",
      "training: 100%|██████████| 100/100 [09:34<00:00,  5.74s/it]\n"
     ]
    }
   ],
   "source": [
    "gimvi = GimVI(data, \"GimVISM15Random-kappa5\", trainer)\n",
    "gimvi.train_seq(100)\n",
    "gimvi.train_fish(100)\n",
    "gimvi.train_both(100)\n",
    "gimvi.compute()\n",
    "gimvi.benchmark()\n",
    "gimvi.save()"
   ]
  },
  {
   "cell_type": "code",
   "execution_count": 22,
   "metadata": {},
   "outputs": [
    {
     "data": {
      "application/vnd.jupyter.widget-view+json": {
       "model_id": "b8f874ee122749cd81cf1b9978b3c499",
       "version_major": 2,
       "version_minor": 0
      },
      "text/plain": [
       "HBox(children=(FloatProgress(value=0.0, description='training', style=ProgressStyle(description_width='initial…"
      ]
     },
     "metadata": {},
     "output_type": "display_data"
    },
    {
     "name": "stdout",
     "output_type": "stream",
     "text": [
      "\n"
     ]
    },
    {
     "data": {
      "application/vnd.jupyter.widget-view+json": {
       "model_id": "000231bf5c454352ab6b34e4eb854e36",
       "version_major": 2,
       "version_minor": 0
      },
      "text/plain": [
       "HBox(children=(FloatProgress(value=0.0, description='training', style=ProgressStyle(description_width='initial…"
      ]
     },
     "metadata": {},
     "output_type": "display_data"
    },
    {
     "name": "stdout",
     "output_type": "stream",
     "text": [
      "\n",
      "training: 100%|██████████| 100/100 [05:35<00:00,  3.36s/it]\n"
     ]
    }
   ],
   "source": [
    "kappa = 0\n",
    "torch.manual_seed(0)\n",
    "\n",
    "model = JVAE(\n",
    "    n_inputs,\n",
    "    total_genes,\n",
    "    gene_mappings,\n",
    "    generative_distributions,\n",
    "    model_library_size,\n",
    "    n_layers_decoder_individual=0,\n",
    "    n_layers_decoder_shared=0,\n",
    "    n_layers_encoder_individual=1,\n",
    "    n_layers_encoder_shared=1,\n",
    "    dim_hidden_encoder=64,\n",
    "    dim_hidden_decoder_shared=64,\n",
    "    dropout_rate_encoder=0.2,\n",
    "    dropout_rate_decoder=0.2,\n",
    "    n_batch=n_batches,\n",
    "    n_latent=n_latent,\n",
    ")\n",
    "\n",
    "discriminator = Classifier(n_latent, 32, 2, 3, logits=True)\n",
    "\n",
    "trainer = JVAETrainer(model, discriminator, datasets, 0.95, frequency=1, kappa=kappa)\n",
    "\n",
    "gimvi = GimVI(data, \"GimVISM15Random-kappa0\", trainer)\n",
    "gimvi.train_seq(100)\n",
    "gimvi.train_fish(100)\n",
    "gimvi.train_both(100)\n",
    "gimvi.compute()\n",
    "gimvi.benchmark()\n",
    "\n",
    "gimvi.save()"
   ]
  },
  {
   "cell_type": "markdown",
   "metadata": {},
   "source": [
    "## Here are the plots reproducing the results in the paper: \n",
    "[A joint model of unpaired data from scRNA-seq and spatial transcriptomics for imputing missing gene expression measurements](https://arxiv.org/abs/1905.02269)"
   ]
  },
  {
   "cell_type": "code",
   "execution_count": 23,
   "metadata": {},
   "outputs": [],
   "source": [
    "%matplotlib inline"
   ]
  },
  {
   "cell_type": "code",
   "execution_count": 45,
   "metadata": {},
   "outputs": [],
   "source": [
    "plt.rcParams[\"figure.figsize\"] = [16, 8]\n",
    "plt.rcParams[\"pdf.fonttype\"] = 42\n",
    "plt.rcParams[\"ps.fonttype\"] = 42\n",
    "plt.rcParams['font.size'] =10"
   ]
  },
  {
   "cell_type": "markdown",
   "metadata": {},
   "source": [
    "We load the model previously trained."
   ]
  },
  {
   "cell_type": "code",
   "execution_count": 46,
   "metadata": {},
   "outputs": [
    {
     "data": {
      "image/png": "[encoded data removed]",
      "text/plain": [
       "<Figure size 1152x576 with 6 Axes>"
      ]
     },
     "metadata": {
      "needs_background": "light"
     },
     "output_type": "display_data"
    }
   ],
   "source": [
    "pb = PlotBenchmarkable(\n",
    "    [\n",
    "        Benchmarkable.load(\"SeuratSM15Random\"),\n",
    "        Benchmarkable.load(\"LigerSM15Random\"),\n",
    "        Benchmarkable.load(\"CoralSM15Random\"),\n",
    "        Benchmarkable.load(\"scVISM15Random\"),\n",
    "        Benchmarkable.load(\"GimVISM15Random-kappa5\"),\n",
    "        Benchmarkable.load(\"GimVISM15Random-kappa0\"),\n",
    "    ]\n",
    ")\n",
    "pb.MAX_KNN = 1000\n",
    "pb.plot()"
   ]
  },
  {
   "cell_type": "markdown",
   "metadata": {},
   "source": [
    "# Uncertainty"
   ]
  },
  {
   "cell_type": "code",
   "execution_count": 27,
   "metadata": {},
   "outputs": [],
   "source": [
    "import seaborn as sns"
   ]
  },
  {
   "cell_type": "code",
   "execution_count": 28,
   "metadata": {},
   "outputs": [],
   "source": [
    "model = Benchmarkable.load(\"GimVISM15Random-kappa5\")"
   ]
  },
  {
   "cell_type": "code",
   "execution_count": 49,
   "metadata": {},
   "outputs": [],
   "source": [
    "from sklearn.linear_model import LinearRegression\n",
    "\n",
    "samples = np.array(\n",
    "    [\n",
    "        model.trainer_both.get_imputed_values(False)[1][:, model.data.test_indices]\n",
    "        for _ in range(50)\n",
    "    ]\n",
    ")\n",
    "uncertainty = np.std(samples, axis=0).mean(axis=0)\n",
    "means = np.mean(samples, axis=0).mean(axis=0)\n",
    "\n",
    "data_seq_normalized = np.log(\n",
    "    1\n",
    "    + 10 ** 4\n",
    "    * model.data.data_seq.X\n",
    "    / model.data.data_seq.X.sum(axis=1).reshape((-1, 1))\n",
    ")\n",
    "X = data_seq_normalized[:, model.data.train_indices]\n",
    "Y = data_seq_normalized[:, model.data.test_indices]\n",
    "\n",
    "lr = LinearRegression(normalize=False)\n",
    "lr.fit(X, Y)\n",
    "\n",
    "mse = (lr.predict(X) - Y) ** 2\n",
    "gene_rmse = mse.mean(axis=0) ** 0.5\n",
    "\n",
    "# Proxy for the correlation measure of test gene to train genes\n",
    "\n",
    "# Relative error\n",
    "imputation_me = (\n",
    "    (model.data.data_fish.X[:, model.data.test_indices] - model.imputed)\n",
    "    / (model.data.data_fish.X[:, model.data.test_indices] + 1)\n",
    ").mean(axis=0)"
   ]
  },
  {
   "cell_type": "code",
   "execution_count": 30,
   "metadata": {},
   "outputs": [
    {
     "data": {
      "image/png": "[encoded data removed]",
      "text/plain": [
       "<Figure size 720x288 with 2 Axes>"
      ]
     },
     "metadata": {
      "needs_background": "light"
     },
     "output_type": "display_data"
    }
   ],
   "source": [
    "import seaborn as sns\n",
    "fig, axes = plt.subplots(1, 2, figsize=(10, 4))\n",
    "\n",
    "sns.regplot(np.abs(imputation_me), (uncertainty/samples.mean()), ci=0, ax=axes[0])\n",
    "#axes[0].set_ylim((-8, -5))\n",
    "axes[0].set_xlabel('Imputation relative-error')\n",
    "axes[0].set_ylabel('Imputation variance')\n",
    "\n",
    "\n",
    "sns.regplot(gene_rmse, np.log10(uncertainty/samples.mean()), ci=0, ax=axes[1])\n",
    "#axes[1].set_ylim((-8, -5))\n",
    "axes[1].set_xlabel('Least square residuals')\n",
    "axes[1].set_ylabel('Imputation log-variance')\n",
    "plt.tight_layout()\n",
    "#@plt.savefig('uncertainty-starmap.pdf')"
   ]
  }
 ],
 "metadata": {
  "kernelspec": {
   "display_name": "Python 3",
   "language": "python",
   "name": "python3"
  },
  "language_info": {
   "codemirror_mode": {
    "name": "ipython",
    "version": 3
   },
   "file_extension": ".py",
   "mimetype": "text/x-python",
   "name": "python",
   "nbconvert_exporter": "python",
   "pygments_lexer": "ipython3",
   "version": "3.7.5"
  }
 },
 "nbformat": 4,
 "nbformat_minor": 2
}
